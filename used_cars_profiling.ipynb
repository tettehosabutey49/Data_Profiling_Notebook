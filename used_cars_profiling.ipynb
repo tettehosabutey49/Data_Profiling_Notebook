{
 "cells": [
  {
   "cell_type": "markdown",
   "id": "2427c4d2",
   "metadata": {},
   "source": [
    "## DATA PROFILING NOTEBOOK"
   ]
  },
  {
   "cell_type": "code",
   "execution_count": 35,
   "id": "77dbd8e5",
   "metadata": {},
   "outputs": [
    {
     "name": "stdout",
     "output_type": "stream",
     "text": [
      "Collecting great-expectations"
     ]
    },
    {
     "name": "stderr",
     "output_type": "stream",
     "text": [
      "WARNING: Ignoring invalid distribution -umpy (c:\\documentpc\\data_profiling_notebook\\data_profiling_env\\lib\\site-packages)\n",
      "WARNING: Ignoring invalid distribution -umpy (c:\\documentpc\\data_profiling_notebook\\data_profiling_env\\lib\\site-packages)\n",
      "WARNING: Ignoring invalid distribution -umpy (c:\\documentpc\\data_profiling_notebook\\data_profiling_env\\lib\\site-packages)\n",
      "ERROR: Could not install packages due to an OSError: [WinError 5] Access is denied: 'C:\\\\Documentpc\\\\Data_Profiling_Notebook\\\\data_profiling_env\\\\Lib\\\\site-packages\\\\numpy\\\\linalg\\\\_umath_linalg.cp310-win_amd64.pyd'\n",
      "Check the permissions.\n",
      "\n",
      "WARNING: Ignoring invalid distribution -umpy (c:\\documentpc\\data_profiling_notebook\\data_profiling_env\\lib\\site-packages)\n",
      "WARNING: Ignoring invalid distribution -umpy (c:\\documentpc\\data_profiling_notebook\\data_profiling_env\\lib\\site-packages)\n",
      "WARNING: Ignoring invalid distribution -umpy (c:\\documentpc\\data_profiling_notebook\\data_profiling_env\\lib\\site-packages)\n",
      "WARNING: You are using pip version 21.2.3; however, version 25.1.1 is available.\n",
      "You should consider upgrading via the 'C:\\Documentpc\\Data_Profiling_Notebook\\data_profiling_env\\Scripts\\python.exe -m pip install --upgrade pip' command.\n"
     ]
    },
    {
     "name": "stdout",
     "output_type": "stream",
     "text": [
      "\n",
      "  Using cached great_expectations-1.5.4-py3-none-any.whl (4.9 MB)\n",
      "Requirement already satisfied: packaging in c:\\documentpc\\data_profiling_notebook\\data_profiling_env\\lib\\site-packages (from great-expectations) (25.0)\n",
      "Collecting cryptography>=3.2\n",
      "  Using cached cryptography-45.0.5-cp37-abi3-win_amd64.whl (3.4 MB)\n",
      "Collecting jsonschema>=2.5.1\n",
      "  Using cached jsonschema-4.24.0-py3-none-any.whl (88 kB)\n",
      "Requirement already satisfied: pyparsing>=2.4 in c:\\documentpc\\data_profiling_notebook\\data_profiling_env\\lib\\site-packages (from great-expectations) (3.2.3)\n",
      "Collecting pandas<2.2,>=1.3.0\n",
      "  Using cached pandas-2.1.4-cp310-cp310-win_amd64.whl (10.7 MB)\n",
      "Collecting altair<5.0.0,>=4.2.1\n",
      "  Using cached altair-4.2.2-py3-none-any.whl (813 kB)\n",
      "Requirement already satisfied: jinja2>=3 in c:\\documentpc\\data_profiling_notebook\\data_profiling_env\\lib\\site-packages (from great-expectations) (3.1.6)\n",
      "Requirement already satisfied: scipy>=1.6.0 in c:\\documentpc\\data_profiling_notebook\\data_profiling_env\\lib\\site-packages (from great-expectations) (1.15.3)\n",
      "Collecting numpy>=1.22.4\n",
      "  Using cached numpy-2.2.6-cp310-cp310-win_amd64.whl (12.9 MB)\n",
      "Collecting posthog<6,>3\n",
      "  Using cached posthog-5.4.0-py3-none-any.whl (105 kB)\n",
      "Requirement already satisfied: tqdm>=4.59.0 in c:\\documentpc\\data_profiling_notebook\\data_profiling_env\\lib\\site-packages (from great-expectations) (4.67.1)\n",
      "Requirement already satisfied: python-dateutil>=2.8.1 in c:\\documentpc\\data_profiling_notebook\\data_profiling_env\\lib\\site-packages (from great-expectations) (2.9.0.post0)\n",
      "Collecting ruamel.yaml>=0.16\n",
      "  Using cached ruamel.yaml-0.18.14-py3-none-any.whl (118 kB)\n",
      "Collecting tzlocal>=1.2\n",
      "  Using cached tzlocal-5.3.1-py3-none-any.whl (18 kB)\n",
      "Requirement already satisfied: requests>=2.20 in c:\\documentpc\\data_profiling_notebook\\data_profiling_env\\lib\\site-packages (from great-expectations) (2.32.4)\n",
      "Collecting marshmallow<4.0.0,>=3.7.1\n",
      "  Using cached marshmallow-3.26.1-py3-none-any.whl (50 kB)\n",
      "Requirement already satisfied: typing-extensions>=4.1.0 in c:\\documentpc\\data_profiling_notebook\\data_profiling_env\\lib\\site-packages (from great-expectations) (4.14.1)\n",
      "Requirement already satisfied: pydantic>=1.10.7 in c:\\documentpc\\data_profiling_notebook\\data_profiling_env\\lib\\site-packages (from great-expectations) (2.11.7)\n",
      "Collecting mistune>=0.8.4\n",
      "  Using cached mistune-3.1.3-py3-none-any.whl (53 kB)\n",
      "Collecting entrypoints\n",
      "  Using cached entrypoints-0.4-py3-none-any.whl (5.3 kB)\n",
      "Collecting toolz\n",
      "  Using cached toolz-1.0.0-py3-none-any.whl (56 kB)\n",
      "Collecting cffi>=1.14\n",
      "  Using cached cffi-1.17.1-cp310-cp310-win_amd64.whl (181 kB)\n",
      "Requirement already satisfied: pycparser in c:\\documentpc\\data_profiling_notebook\\data_profiling_env\\lib\\site-packages (from cffi>=1.14->cryptography>=3.2->great-expectations) (2.22)\n",
      "Requirement already satisfied: MarkupSafe>=2.0 in c:\\documentpc\\data_profiling_notebook\\data_profiling_env\\lib\\site-packages (from jinja2>=3->great-expectations) (3.0.2)\n",
      "Requirement already satisfied: referencing>=0.28.4 in c:\\documentpc\\data_profiling_notebook\\data_profiling_env\\lib\\site-packages (from jsonschema>=2.5.1->great-expectations) (0.36.2)\n",
      "Collecting jsonschema-specifications>=2023.03.6\n",
      "  Using cached jsonschema_specifications-2025.4.1-py3-none-any.whl (18 kB)\n",
      "Requirement already satisfied: rpds-py>=0.7.1 in c:\\documentpc\\data_profiling_notebook\\data_profiling_env\\lib\\site-packages (from jsonschema>=2.5.1->great-expectations) (0.26.0)\n",
      "Requirement already satisfied: attrs>=22.2.0 in c:\\documentpc\\data_profiling_notebook\\data_profiling_env\\lib\\site-packages (from jsonschema>=2.5.1->great-expectations) (25.3.0)\n",
      "Requirement already satisfied: pytz>=2020.1 in c:\\documentpc\\data_profiling_notebook\\data_profiling_env\\lib\\site-packages (from pandas<2.2,>=1.3.0->great-expectations) (2025.2)\n",
      "Requirement already satisfied: tzdata>=2022.1 in c:\\documentpc\\data_profiling_notebook\\data_profiling_env\\lib\\site-packages (from pandas<2.2,>=1.3.0->great-expectations) (2025.2)\n",
      "Collecting numpy>=1.22.4\n",
      "  Using cached numpy-1.26.4-cp310-cp310-win_amd64.whl (15.8 MB)\n",
      "Collecting distro>=1.5.0\n",
      "  Using cached distro-1.9.0-py3-none-any.whl (20 kB)\n",
      "Requirement already satisfied: six>=1.5 in c:\\documentpc\\data_profiling_notebook\\data_profiling_env\\lib\\site-packages (from posthog<6,>3->great-expectations) (1.17.0)\n",
      "Collecting backoff>=1.10.0\n",
      "  Using cached backoff-2.2.1-py3-none-any.whl (15 kB)\n",
      "Requirement already satisfied: typing-inspection>=0.4.0 in c:\\documentpc\\data_profiling_notebook\\data_profiling_env\\lib\\site-packages (from pydantic>=1.10.7->great-expectations) (0.4.1)\n",
      "Requirement already satisfied: pydantic-core==2.33.2 in c:\\documentpc\\data_profiling_notebook\\data_profiling_env\\lib\\site-packages (from pydantic>=1.10.7->great-expectations) (2.33.2)\n",
      "Requirement already satisfied: annotated-types>=0.6.0 in c:\\documentpc\\data_profiling_notebook\\data_profiling_env\\lib\\site-packages (from pydantic>=1.10.7->great-expectations) (0.7.0)\n",
      "Requirement already satisfied: idna<4,>=2.5 in c:\\documentpc\\data_profiling_notebook\\data_profiling_env\\lib\\site-packages (from requests>=2.20->great-expectations) (3.10)\n",
      "Requirement already satisfied: certifi>=2017.4.17 in c:\\documentpc\\data_profiling_notebook\\data_profiling_env\\lib\\site-packages (from requests>=2.20->great-expectations) (2025.6.15)\n",
      "Requirement already satisfied: charset_normalizer<4,>=2 in c:\\documentpc\\data_profiling_notebook\\data_profiling_env\\lib\\site-packages (from requests>=2.20->great-expectations) (3.4.2)\n",
      "Requirement already satisfied: urllib3<3,>=1.21.1 in c:\\documentpc\\data_profiling_notebook\\data_profiling_env\\lib\\site-packages (from requests>=2.20->great-expectations) (2.5.0)\n",
      "Collecting ruamel.yaml.clib>=0.2.7\n",
      "  Using cached ruamel.yaml.clib-0.2.12-cp310-cp310-win_amd64.whl (118 kB)\n",
      "Requirement already satisfied: colorama in c:\\documentpc\\data_profiling_notebook\\data_profiling_env\\lib\\site-packages (from tqdm>=4.59.0->great-expectations) (0.4.6)\n",
      "Installing collected packages: numpy, jsonschema-specifications, toolz, ruamel.yaml.clib, pandas, jsonschema, entrypoints, distro, cffi, backoff, tzlocal, ruamel.yaml, posthog, mistune, marshmallow, cryptography, altair, great-expectations\n"
     ]
    }
   ],
   "source": [
    "## Uncomment these and install in your virtual environment\n",
    "#!installing packages\n",
    "#!pip install pandas\n",
    "#!pip install ydata-profiling\n",
    "#!pip install numpy\n",
    "!pip install great-expectations"
   ]
  },
  {
   "cell_type": "code",
   "execution_count": 2,
   "id": "ea8adfba",
   "metadata": {},
   "outputs": [
    {
     "data": {
      "text/html": [
       "\n",
       "            <div>\n",
       "                <ins><a href=\"https://ydata.ai/register\">Upgrade to ydata-sdk</a></ins>\n",
       "                <p>\n",
       "                    Improve your data and profiling with ydata-sdk, featuring data quality scoring, redundancy detection, outlier identification, text validation, and synthetic data generation.\n",
       "                </p>\n",
       "            </div>\n",
       "            "
      ],
      "text/plain": [
       "<IPython.core.display.HTML object>"
      ]
     },
     "metadata": {},
     "output_type": "display_data"
    }
   ],
   "source": [
    "## importing libraries\n",
    "import pandas as pd\n",
    "from ydata_profiling import ProfileReport\n",
    "from ydata_profiling.utils.cache import cache_file"
   ]
  },
  {
   "cell_type": "code",
   "execution_count": 41,
   "id": "1ea719bb",
   "metadata": {},
   "outputs": [
    {
     "ename": "ModuleNotFoundError",
     "evalue": "No module named 'great_expectations'",
     "output_type": "error",
     "traceback": [
      "\u001b[1;31m---------------------------------------------------------------------------\u001b[0m",
      "\u001b[1;31mModuleNotFoundError\u001b[0m                       Traceback (most recent call last)",
      "Cell \u001b[1;32mIn[41], line 1\u001b[0m\n\u001b[1;32m----> 1\u001b[0m \u001b[38;5;28;01mimport\u001b[39;00m\u001b[38;5;250m \u001b[39m\u001b[38;5;21;01mgreat_expectations\u001b[39;00m\u001b[38;5;250m \u001b[39m\u001b[38;5;28;01mas\u001b[39;00m\u001b[38;5;250m \u001b[39m\u001b[38;5;21;01mge\u001b[39;00m\n\u001b[0;32m      2\u001b[0m \u001b[38;5;28;01mfrom\u001b[39;00m\u001b[38;5;250m \u001b[39m\u001b[38;5;21;01mgreat_expectations\u001b[39;00m\u001b[38;5;21;01m.\u001b[39;00m\u001b[38;5;21;01mdataset\u001b[39;00m\u001b[38;5;250m \u001b[39m\u001b[38;5;28;01mimport\u001b[39;00m PandasDataset\n",
      "\u001b[1;31mModuleNotFoundError\u001b[0m: No module named 'great_expectations'"
     ]
    }
   ],
   "source": [
    "import great_expectations as ge\n",
    "from great_expectations.dataset import PandasDataset"
   ]
  },
  {
   "cell_type": "markdown",
   "id": "f006c9cd",
   "metadata": {},
   "source": [
    "### EDA Report using ydata_profiling"
   ]
  },
  {
   "cell_type": "code",
   "execution_count": null,
   "id": "7934eb53",
   "metadata": {},
   "outputs": [],
   "source": [
    "## load data\n",
    "filepath = \"Dataset/usedcars.csv\"\n",
    "def load_data(filepath):\n",
    "    \"\"\"\"\n",
    "    function: loads a csv file into a dataframe\n",
    "    parameter : filepath to the csv file is str\n",
    "    returns: returns a loaded dataframe\n",
    "    try anf except blocks to handle errors and easy debugging\n",
    "\n",
    "    \"\"\"\n",
    "    try:\n",
    "        df = pd.read_csv(filepath)\n",
    "        return df\n",
    "    except FileNotFoundError:\n",
    "        print(f\"file was not found\")\n",
    "    except pd.errors.EmptyDataError:\n",
    "        print(f'The file is empty')\n",
    "    except pd.errors.ParserError:\n",
    "        print(f'The file is in the wrong format. Could not Parse')\n"
   ]
  },
  {
   "cell_type": "code",
   "execution_count": 21,
   "id": "6f1f1a03",
   "metadata": {},
   "outputs": [],
   "source": [
    "\n",
    "def display_data(df, n=5):   \n",
    "    \"\"\"\n",
    "    Display the first `n` rows of the DataFrame.\n",
    "    default n = 5\n",
    " \n",
    "    \"\"\"\n",
    "    display(df.head(n))\n"
   ]
  },
  {
   "cell_type": "code",
   "execution_count": 22,
   "id": "c87fdf77",
   "metadata": {},
   "outputs": [],
   "source": [
    "## Generate EDA report \n",
    "\n",
    "def generate_eda_report(df, sample_size=50000, output_file=\"used_car_report.html\", random_state=42):\n",
    "    \"\"\"\"\n",
    "    generate and save an EDA report using ydata-profiling\n",
    "    sample_size(int): 50000 max for larger datasets\n",
    "    output_file(str): file name of html report\n",
    "    random_state(int): for reproducibility\n",
    "    \"\"\"\n",
    "    if len(df) > sample_size:\n",
    "        df_sampled = df.sample(sample_size, random_state=random_state)\n",
    "    else:\n",
    "        df_sampled = df\n",
    "\n",
    "    profile = ProfileReport(df_sampled, title=\"Used Car Data Quality Report\", explorative=True)\n",
    "    profile.to_file(output_file)\n",
    "    print(\"-----------------------------------------------------\")\n",
    "    print(f\"Open {output_file} with live server to view analysis\")"
   ]
  },
  {
   "cell_type": "code",
   "execution_count": 25,
   "id": "1065e91f",
   "metadata": {},
   "outputs": [
    {
     "data": {
      "text/plain": [
       "Index(['id', 'url', 'region', 'region_url', 'price', 'year', 'manufacturer',\n",
       "       'model', 'condition', 'cylinders', 'fuel', 'odometer', 'title_status',\n",
       "       'transmission', 'VIN', 'drive', 'size', 'type', 'paint_color',\n",
       "       'image_url', 'description', 'county', 'state', 'lat', 'long',\n",
       "       'posting_date'],\n",
       "      dtype='object')"
      ]
     },
     "execution_count": 25,
     "metadata": {},
     "output_type": "execute_result"
    }
   ],
   "source": [
    "df.columns"
   ]
  },
  {
   "cell_type": "markdown",
   "id": "768bd255",
   "metadata": {},
   "source": [
    "### Data Validation with Great Expection"
   ]
  },
  {
   "cell_type": "markdown",
   "id": "607f2044",
   "metadata": {},
   "source": [
    "Defining some validation rules for certain columns we are interested in working with using Great Expection\n",
    "columns = price, odometer, year"
   ]
  },
  {
   "cell_type": "code",
   "execution_count": null,
   "id": "350dc76f",
   "metadata": {},
   "outputs": [],
   "source": []
  },
  {
   "cell_type": "code",
   "execution_count": null,
   "id": "b7339e39",
   "metadata": {},
   "outputs": [],
   "source": []
  },
  {
   "cell_type": "code",
   "execution_count": null,
   "id": "db05ce1b",
   "metadata": {},
   "outputs": [],
   "source": [
    "\n"
   ]
  },
  {
   "cell_type": "code",
   "execution_count": null,
   "id": "86397c64",
   "metadata": {},
   "outputs": [],
   "source": [
    "\n"
   ]
  },
  {
   "cell_type": "code",
   "execution_count": null,
   "id": "05d5bfd0",
   "metadata": {},
   "outputs": [],
   "source": [
    "\n"
   ]
  },
  {
   "cell_type": "code",
   "execution_count": null,
   "id": "03bde1ee",
   "metadata": {},
   "outputs": [],
   "source": [
    "\n"
   ]
  },
  {
   "cell_type": "code",
   "execution_count": null,
   "id": "b1ae3383",
   "metadata": {},
   "outputs": [],
   "source": [
    "\n"
   ]
  },
  {
   "cell_type": "code",
   "execution_count": null,
   "id": "e99f278e",
   "metadata": {},
   "outputs": [],
   "source": [
    "\n"
   ]
  },
  {
   "cell_type": "code",
   "execution_count": null,
   "id": "517020dc",
   "metadata": {},
   "outputs": [],
   "source": []
  }
 ],
 "metadata": {
  "kernelspec": {
   "display_name": "data_profiling_env",
   "language": "python",
   "name": "python3"
  },
  "language_info": {
   "codemirror_mode": {
    "name": "ipython",
    "version": 3
   },
   "file_extension": ".py",
   "mimetype": "text/x-python",
   "name": "python",
   "nbconvert_exporter": "python",
   "pygments_lexer": "ipython3",
   "version": "3.10.0"
  }
 },
 "nbformat": 4,
 "nbformat_minor": 5
}
